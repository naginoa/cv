{
 "cells": [
  {
   "cell_type": "code",
   "execution_count": 1,
   "metadata": {
    "collapsed": true
   },
   "outputs": [],
   "source": [
    "import os  \n",
    "from PIL import Image  "
   ]
  },
  {
   "cell_type": "code",
   "execution_count": 4,
   "metadata": {
    "collapsed": true
   },
   "outputs": [],
   "source": [
    "def analyseImage(path):  \n",
    "    ''''' \n",
    "    Pre-process pass over the image to determine the mode (full or additive). \n",
    "    Necessary as assessing single frames isn't reliable. Need to know the mode  \n",
    "    before processing all frames. \n",
    "    '''  \n",
    "    im = Image.open(path)  \n",
    "    results = {  \n",
    "        'size': im.size,  \n",
    "        'mode': 'full',  \n",
    "    }  \n",
    "    try:  \n",
    "        while True:  \n",
    "            if im.tile:  \n",
    "                tile = im.tile[0]  \n",
    "                update_region = tile[1]  \n",
    "                update_region_dimensions = update_region[2:]  \n",
    "                if update_region_dimensions != im.size:  \n",
    "                    results['mode'] = 'partial'  \n",
    "                    break  \n",
    "            im.seek(im.tell() + 1)  \n",
    "    except EOFError:  \n",
    "        pass  \n",
    "    return results  \n",
    "  \n",
    "  \n",
    "def processImage(path):  \n",
    "    ''''' \n",
    "    Iterate the GIF, extracting each frame. \n",
    "    '''  \n",
    "    mode = analyseImage(path)['mode']  \n",
    "      \n",
    "    im = Image.open(path)  \n",
    "  \n",
    "    i = 0  \n",
    "    p = im.getpalette()  \n",
    "    last_frame = im.convert('RGBA')  \n",
    "      \n",
    "    try:  \n",
    "        while True:  \n",
    "            print \"saving %s (%s) frame %d, %s %s\" % (path, mode, i, im.size, im.tile)  \n",
    "              \n",
    "            ''''' \n",
    "            If the GIF uses local colour tables, each frame will have its own palette. \n",
    "            If not, we need to apply the global palette to the new frame. \n",
    "            '''  \n",
    "            if not im.getpalette():  \n",
    "                im.putpalette(p)  \n",
    "              \n",
    "            new_frame = Image.new('RGBA', im.size)  \n",
    "              \n",
    "            ''''' \n",
    "            Is this file a \"partial\"-mode GIF where frames update a region of a different size to the entire image? \n",
    "            If so, we need to construct the new frame by pasting it on top of the preceding frames. \n",
    "            '''  \n",
    "            if mode == 'partial':  \n",
    "                new_frame.paste(last_frame)  \n",
    "              \n",
    "            new_frame.paste(im, (0,0), im.convert('RGBA'))  \n",
    "            new_frame.save('%s-%d.png' % (''.join(os.path.basename(path).split('.')[:-1]), i), 'PNG')  \n",
    "  \n",
    "            i += 1  \n",
    "            last_frame = new_frame  \n",
    "            im.seek(im.tell() + 1)  \n",
    "    except EOFError:  \n",
    "        pass  \n",
    "  \n",
    "  \n",
    "  \n",
    "def main():  \n",
    "    processImage('download.gif') "
   ]
  },
  {
   "cell_type": "code",
   "execution_count": 5,
   "metadata": {},
   "outputs": [
    {
     "name": "stdout",
     "output_type": "stream",
     "text": [
      "saving download.gif (full) frame 0, (182, 182) []\n",
      "saving download.gif (full) frame 1, (182, 182) [('gif', (0, 0, 182, 182), 15492L, (8, False))]\n",
      "saving download.gif (full) frame 2, (182, 182) [('gif', (0, 0, 182, 182), 30118L, (8, False))]\n",
      "saving download.gif (full) frame 3, (182, 182) [('gif', (0, 0, 182, 182), 44807L, (8, False))]\n",
      "saving download.gif (full) frame 4, (182, 182) [('gif', (0, 0, 182, 182), 59631L, (8, False))]\n"
     ]
    }
   ],
   "source": [
    "if __name__ == \"__main__\":  \n",
    "    main()  "
   ]
  },
  {
   "cell_type": "code",
   "execution_count": null,
   "metadata": {
    "collapsed": true
   },
   "outputs": [],
   "source": []
  }
 ],
 "metadata": {
  "kernelspec": {
   "display_name": "Python 2",
   "language": "python",
   "name": "python2"
  },
  "language_info": {
   "codemirror_mode": {
    "name": "ipython",
    "version": 2
   },
   "file_extension": ".py",
   "mimetype": "text/x-python",
   "name": "python",
   "nbconvert_exporter": "python",
   "pygments_lexer": "ipython2",
   "version": "2.7.14"
  }
 },
 "nbformat": 4,
 "nbformat_minor": 2
}
